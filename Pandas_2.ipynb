{
  "nbformat": 4,
  "nbformat_minor": 0,
  "metadata": {
    "colab": {
      "provenance": [],
      "authorship_tag": "ABX9TyOmFm1+Z+rQekGZx476QZ3J",
      "include_colab_link": true
    },
    "kernelspec": {
      "name": "python3",
      "display_name": "Python 3"
    },
    "language_info": {
      "name": "python"
    }
  },
  "cells": [
    {
      "cell_type": "markdown",
      "metadata": {
        "id": "view-in-github",
        "colab_type": "text"
      },
      "source": [
        "<a href=\"https://colab.research.google.com/github/Vidito/pandas_2/blob/main/Pandas_2.ipynb\" target=\"_parent\"><img src=\"https://colab.research.google.com/assets/colab-badge.svg\" alt=\"Open In Colab\"/></a>"
      ]
    },
    {
      "cell_type": "code",
      "execution_count": 81,
      "metadata": {
        "id": "39h13N1lLuU8"
      },
      "outputs": [],
      "source": [
        "import pandas as pd"
      ]
    },
    {
      "cell_type": "code",
      "source": [
        "df = pd.read_csv('rand.csv')"
      ],
      "metadata": {
        "id": "hRDWlTOkOmI1"
      },
      "execution_count": 82,
      "outputs": []
    },
    {
      "cell_type": "code",
      "source": [
        "# Check the first rows\n",
        "df.head()"
      ],
      "metadata": {
        "id": "egX0wnW6Oplc"
      },
      "execution_count": null,
      "outputs": []
    },
    {
      "cell_type": "code",
      "source": [
        "# Check some technical info and overview\n",
        "df.info()"
      ],
      "metadata": {
        "id": "MQR9JM_-OqwS"
      },
      "execution_count": null,
      "outputs": []
    },
    {
      "cell_type": "code",
      "source": [
        "# Check if the values are unique\n",
        "df['ID'].is_unique"
      ],
      "metadata": {
        "colab": {
          "base_uri": "https://localhost:8080/"
        },
        "id": "wfAk6oZrejKw",
        "outputId": "5d6ff04c-16d2-4478-f383-8e9215f2342b"
      },
      "execution_count": 112,
      "outputs": [
        {
          "output_type": "execute_result",
          "data": {
            "text/plain": [
              "True"
            ]
          },
          "metadata": {},
          "execution_count": 112
        }
      ]
    },
    {
      "cell_type": "code",
      "source": [
        "# Set the index to the ID columns\n",
        "df = df.set_index('ID')"
      ],
      "metadata": {
        "id": "aodIRMuyer9-"
      },
      "execution_count": 113,
      "outputs": []
    },
    {
      "cell_type": "code",
      "source": [
        "# Check the missing values\n",
        "df.isna().sum()"
      ],
      "metadata": {
        "id": "TVngzxXoY3tJ"
      },
      "execution_count": null,
      "outputs": []
    },
    {
      "cell_type": "code",
      "source": [
        "# Check the rows containing the missing values\n",
        "df[df['Age'].isna()]"
      ],
      "metadata": {
        "id": "0axTHyKOU7ER"
      },
      "execution_count": null,
      "outputs": []
    },
    {
      "cell_type": "code",
      "source": [
        "# Dropping the rows containing missing values\n",
        "df1 = df.dropna()"
      ],
      "metadata": {
        "id": "2AKXWnGOcenm"
      },
      "execution_count": 91,
      "outputs": []
    },
    {
      "cell_type": "code",
      "source": [
        "df1.info()"
      ],
      "metadata": {
        "id": "0B84IFQmcxTU"
      },
      "execution_count": null,
      "outputs": []
    },
    {
      "cell_type": "code",
      "source": [
        "# Filling the empty cells with the average age\n",
        "df['Age'] = df['Age'].fillna(df['Age'].mean())"
      ],
      "metadata": {
        "id": "Cdfb753ic2AL"
      },
      "execution_count": 95,
      "outputs": []
    },
    {
      "cell_type": "code",
      "source": [
        "df.info()"
      ],
      "metadata": {
        "id": "NS1pSsJKdCsS"
      },
      "execution_count": null,
      "outputs": []
    },
    {
      "cell_type": "code",
      "source": [
        "# Convert DOB to Datetime datatype\n",
        "df['DOB'] = pd.to_datetime(df['DOB'])"
      ],
      "metadata": {
        "id": "X8_jF9rOYw6D"
      },
      "execution_count": 85,
      "outputs": []
    },
    {
      "cell_type": "code",
      "source": [
        "# Count the different values in a series (column)\n",
        "df['Gender'].value_counts()"
      ],
      "metadata": {
        "id": "xlbQ6wmxdQkr"
      },
      "execution_count": null,
      "outputs": []
    },
    {
      "cell_type": "code",
      "source": [
        "# Using replace method\n",
        "df['Gender'] = df['Gender'].replace('Mile', 'Male')"
      ],
      "metadata": {
        "id": "YCGlZiJDdhPZ"
      },
      "execution_count": 98,
      "outputs": []
    },
    {
      "cell_type": "code",
      "source": [
        "# Converting to category datatype\n",
        "df['Gender']= df['Gender'].astype('category')"
      ],
      "metadata": {
        "id": "MtjxjZBudtl6"
      },
      "execution_count": 100,
      "outputs": []
    },
    {
      "cell_type": "code",
      "source": [
        "df['Gender'].dtype"
      ],
      "metadata": {
        "colab": {
          "base_uri": "https://localhost:8080/"
        },
        "id": "AlJxPd20d5-I",
        "outputId": "7b226994-c7f7-4c72-ebda-199f9dbab601"
      },
      "execution_count": 101,
      "outputs": [
        {
          "output_type": "execute_result",
          "data": {
            "text/plain": [
              "CategoricalDtype(categories=['Female', 'Male'], ordered=False)"
            ]
          },
          "metadata": {},
          "execution_count": 101
        }
      ]
    },
    {
      "cell_type": "code",
      "source": [
        "# Converting to integer datatype\n",
        "df['Age']= df['Age'].astype('int')"
      ],
      "metadata": {
        "id": "8GF8VAeQd8_n"
      },
      "execution_count": 103,
      "outputs": []
    },
    {
      "cell_type": "code",
      "source": [
        "# Dropping two columns\n",
        "df = df.drop(columns=['Education', 'Occupation'])"
      ],
      "metadata": {
        "id": "mRpn0VpaeHaS"
      },
      "execution_count": 107,
      "outputs": []
    },
    {
      "cell_type": "code",
      "source": [
        "# Getting the name of columns\n",
        "df.columns"
      ],
      "metadata": {
        "id": "h9Jpt1FkeX3P"
      },
      "execution_count": null,
      "outputs": []
    },
    {
      "cell_type": "code",
      "source": [
        "df.head(2)"
      ],
      "metadata": {
        "id": "d2FXOzX6eaoe"
      },
      "execution_count": null,
      "outputs": []
    },
    {
      "cell_type": "code",
      "source": [
        "# Using loc to loacte rows\n",
        "df.loc[1000:1009]"
      ],
      "metadata": {
        "id": "bfFHbdNbe9i9"
      },
      "execution_count": null,
      "outputs": []
    },
    {
      "cell_type": "code",
      "source": [
        "# Using iloc for unlabeled index\n",
        "df.iloc[0:5]"
      ],
      "metadata": {
        "id": "LINLoqqmj2o-"
      },
      "execution_count": null,
      "outputs": []
    },
    {
      "cell_type": "code",
      "source": [
        "# using at to locate specific values\n",
        "df.at[1003:1007, 'Salary']"
      ],
      "metadata": {
        "id": "zBmHbEmVfLa9"
      },
      "execution_count": null,
      "outputs": []
    },
    {
      "cell_type": "code",
      "source": [],
      "metadata": {
        "id": "5hbeBCUof2gz"
      },
      "execution_count": null,
      "outputs": []
    }
  ]
}